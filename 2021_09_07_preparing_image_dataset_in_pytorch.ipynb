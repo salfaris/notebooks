{
  "nbformat": 4,
  "nbformat_minor": 0,
  "metadata": {
    "colab": {
      "name": "2021-09-07-preparing-image-dataset-in-pytorch.ipynb",
      "provenance": [],
      "collapsed_sections": [],
      "authorship_tag": "ABX9TyOnyVeyExljyoRw7BYCMhxw",
      "include_colab_link": true
    },
    "kernelspec": {
      "name": "python3",
      "display_name": "Python 3"
    },
    "language_info": {
      "name": "python"
    }
  },
  "cells": [
    {
      "cell_type": "markdown",
      "metadata": {
        "id": "view-in-github",
        "colab_type": "text"
      },
      "source": [
        "<a href=\"https://colab.research.google.com/github/salfaris/notebooks/blob/main/2021_09_07_preparing_image_dataset_in_pytorch.ipynb\" target=\"_parent\"><img src=\"https://colab.research.google.com/assets/colab-badge.svg\" alt=\"Open In Colab\"/></a>"
      ]
    },
    {
      "cell_type": "markdown",
      "metadata": {
        "id": "ZQYt4VqdmOoG"
      },
      "source": [
        "# Preparing Image Dataset for Neural Networks in PyTorch\n",
        "\n",
        "This notebook is a simplified version of my blog post which you can find [here](https://salfaris.me/blog/2021-09-07-preparing-image-dataset-for-neural-networks-in-pytorch.html)."
      ]
    },
    {
      "cell_type": "markdown",
      "metadata": {
        "id": "yTbnTFbBl1RC"
      },
      "source": [
        "### PyTorch and Torchvision\n",
        "\n",
        "Start by importing `torch` and `torchvision`."
      ]
    },
    {
      "cell_type": "code",
      "metadata": {
        "colab": {
          "base_uri": "https://localhost:8080/"
        },
        "id": "rYv2f1ullmrU",
        "outputId": "edafd2b0-3ac7-4c89-ecb1-401019fb037f"
      },
      "source": [
        "import torch\n",
        "from torchvision import datasets, transforms\n",
        "\n",
        "torch.manual_seed(44)"
      ],
      "execution_count": 10,
      "outputs": [
        {
          "output_type": "execute_result",
          "data": {
            "text/plain": [
              "<torch._C.Generator at 0x7f157fcf0910>"
            ]
          },
          "metadata": {},
          "execution_count": 10
        }
      ]
    },
    {
      "cell_type": "markdown",
      "metadata": {
        "id": "QthPzB5Jl_GM"
      },
      "source": [
        "### 👜 Fashion MNIST dataset and composing transformations\n",
        "\n",
        "We will apply two simple transformations to our image:\n",
        "\n",
        "1. Converting the images to a PyTorch `tensor` – by using `transforms.ToTensor()`.\n",
        "2. Normalize the channel of the resulting tensor – by using `transforms.Normalize()`.\n",
        "\n",
        "We can then compose these transformations using `transforms.Compose()` as below."
      ]
    },
    {
      "cell_type": "code",
      "metadata": {
        "id": "Jn_5pjPXl6ou"
      },
      "source": [
        "transform = transforms.Compose([\n",
        "    transforms.ToTensor(),\n",
        "    transforms.Normalize(mean=(0.5), std=(0.5)),\n",
        "])"
      ],
      "execution_count": 11,
      "outputs": []
    },
    {
      "cell_type": "markdown",
      "metadata": {
        "id": "-PG49WTRmI4k"
      },
      "source": [
        "### 💾 From dataset to Dataloader\n",
        "\n",
        "The next step is to finally fetch the dataset, passing our transform above as an argument. We then feed into PyTorch's `DataLoader` object to get features like batching, shuffling and loading data in parallel."
      ]
    },
    {
      "cell_type": "code",
      "metadata": {
        "id": "lL4GdSaymlpo"
      },
      "source": [
        "trainset = datasets.FashionMNIST(root='./data', download=True, train=True, transform=transform)\n",
        "trainloader = torch.utils.data.DataLoader(trainset, batch_size=64, shuffle=True, num_workers=0)\n",
        "\n",
        "testset = datasets.FashionMNIST(root='./data', download=True, train=False, transform=transform)\n",
        "testloader = torch.utils.data.DataLoader(testset, batch_size=64, shuffle=True, num_workers=0)"
      ],
      "execution_count": 12,
      "outputs": []
    },
    {
      "cell_type": "markdown",
      "metadata": {
        "id": "6CYwY_mWmtw8"
      },
      "source": [
        "### 🕵️ Inspecting the dataset in DataLoader form\n",
        "\n",
        "Once we have the dataset in DataLoader form, we can start inspecting our dataset."
      ]
    },
    {
      "cell_type": "code",
      "metadata": {
        "colab": {
          "base_uri": "https://localhost:8080/"
        },
        "id": "5Me5yl6lnA_l",
        "outputId": "0af0da66-6867-4444-c271-7174e90e08ba"
      },
      "source": [
        "print(\"Train shape:\", trainloader.dataset.data.shape)\n",
        "print(\"Test shape:\", testloader.dataset.data.shape)"
      ],
      "execution_count": 13,
      "outputs": [
        {
          "output_type": "stream",
          "name": "stdout",
          "text": [
            "Train shape: torch.Size([60000, 28, 28])\n",
            "Test shape: torch.Size([10000, 28, 28])\n"
          ]
        }
      ]
    },
    {
      "cell_type": "code",
      "metadata": {
        "colab": {
          "base_uri": "https://localhost:8080/"
        },
        "id": "eVVzj447nDDd",
        "outputId": "aa5040cd-789b-43d4-c8c0-151317f8241e"
      },
      "source": [
        "print(\"Train batch size:\", trainloader.batch_size)\n",
        "print(\"Test batch size:\", testloader.batch_size)"
      ],
      "execution_count": 14,
      "outputs": [
        {
          "output_type": "stream",
          "name": "stdout",
          "text": [
            "Train batch size: 64\n",
            "Test batch size: 64\n"
          ]
        }
      ]
    },
    {
      "cell_type": "code",
      "metadata": {
        "colab": {
          "base_uri": "https://localhost:8080/"
        },
        "id": "fAjOi5DSnEie",
        "outputId": "392f3959-3910-45f9-c931-5fe6209d6727"
      },
      "source": [
        "print(\"Sampler:\", trainloader.sampler)\n",
        "print(\"Collate function:\", trainloader.collate_fn)"
      ],
      "execution_count": 15,
      "outputs": [
        {
          "output_type": "stream",
          "name": "stdout",
          "text": [
            "Sampler: <torch.utils.data.sampler.RandomSampler object at 0x7f157ca69750>\n",
            "Collate function: <function default_collate at 0x7f157ee848c0>\n"
          ]
        }
      ]
    },
    {
      "cell_type": "markdown",
      "metadata": {
        "id": "s8OumEpxnG_3"
      },
      "source": [
        "We can also plot an example image. Let's plot the first image from the first batch in `trainloader`."
      ]
    },
    {
      "cell_type": "code",
      "metadata": {
        "id": "dlXFIhsonmJ3"
      },
      "source": [
        "import matplotlib.pyplot as plt"
      ],
      "execution_count": 16,
      "outputs": []
    },
    {
      "cell_type": "code",
      "metadata": {
        "colab": {
          "base_uri": "https://localhost:8080/",
          "height": 265
        },
        "id": "H51-Lr0sni3B",
        "outputId": "a007df1c-72ec-451a-bb7c-09c1a6a989a1"
      },
      "source": [
        "images, labels = next(iter(trainloader))  # Gets a batch of 64 images in the training set\n",
        "first_image = images[0]  # Get the first image out of the 64 images.\n",
        "\n",
        "plt.imshow(first_image.numpy().squeeze(), cmap='Greys_r')\n",
        "plt.show()"
      ],
      "execution_count": 17,
      "outputs": [
        {
          "output_type": "display_data",
          "data": {
            "image/png": "[encoded data removed]",
            "text/plain": [
              "<Figure size 432x288 with 1 Axes>"
            ]
          },
          "metadata": {
            "needs_background": "light"
          }
        }
      ]
    }
  ]
}